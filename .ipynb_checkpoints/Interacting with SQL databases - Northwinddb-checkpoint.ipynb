{
 "cells": [
  {
   "cell_type": "markdown",
   "metadata": {},
   "source": [
    "# Northwind\n",
    "## Database\n",
    "We will learn\n",
    "- how to markdown\n",
    "- others\n",
    "\n",
    "**This is a bold text**\n",
    "\n",
    "\n",
    "This format highlists this 'word' if the word is a database table and i am going to add a line break right here to begin the next sentence on a new line.<br>This format highlists this 'word' if the word is a database table<br>\n",
    ">I am trying to display a warning text"
   ]
  },
  {
   "cell_type": "markdown",
   "metadata": {},
   "source": [
    "Here is a view of all of our tables in the database:\n",
    "\n",
    "<div align=\"center\" style=\" font-size: 80%; text-align: center; margin: 0 auto\">\n",
    "<img src=\"Northwind_ERD.png\"  style=\"width:70%\";/>\n",
    "<br>\n",
    "<br>\n",
    "    <em>Figure 1: Northwind database ERD</em>\n",
    "</div>"
   ]
  },
  {
   "cell_type": "markdown",
   "metadata": {},
   "source": [
    "## Random Markdown Table\n",
    "\n",
    "This table is to test my learning of markdown:\n",
    "\n",
    "| Name | Country |\n",
    "|----------------------------|------------|\n",
    "| Ronaldo                       | Angola, Botswana, Comoros, Democratic Republic of Congo, Eswatini, Lesotho, Madagascar, Malawi, Mauritius, Mozambique, Namibia, Seychelles, South Africa, United Republic Tanzania, Zambia, Zimbabwe |\n",
    "| Messi                        | Algeria, Libya, Mauritania, Morocco, Tunisia |\n",
    "| Neymar                     | Benin, Burkina Faso, Cabo Verde, Cote d’Ivoire, Gambia, Ghana, Guinea, Guinea-Bissau, Liberia, Mali, Niger, Nigeria, Senegal, Sierra Leone, Togo |\n",
    "| Not Classified             | Other countries not listed above |\n",
    "\n",
    "We will use this table when constructing our queries."
   ]
  },
  {
   "cell_type": "code",
   "execution_count": 5,
   "metadata": {},
   "outputs": [
    {
     "name": "stdout",
     "output_type": "stream",
     "text": [
      "The sql extension is already loaded. To reload it, use:\n",
      "  %reload_ext sql\n"
     ]
    }
   ],
   "source": [
    "# Load and activate the SQL extension to allow us to execute SQL in a Jupyter notebook.\n",
    "%load_ext sql\n"
   ]
  },
  {
   "cell_type": "code",
   "execution_count": 6,
   "metadata": {},
   "outputs": [
    {
     "data": {
      "text/plain": [
       "'Connected: @Northwind.db'"
      ]
     },
     "execution_count": 6,
     "metadata": {},
     "output_type": "execute_result"
    }
   ],
   "source": [
    "# Load the Northwind database stored in your local machine. \n",
    "# Make sure the file is saved in the same folder as this notebook.\n",
    "%sql sqlite:///Northwind.db"
   ]
  },
  {
   "cell_type": "code",
   "execution_count": 50,
   "metadata": {
    "scrolled": true
   },
   "outputs": [
    {
     "name": "stdout",
     "output_type": "stream",
     "text": [
      "Wall time: 0 ns\n",
      " * sqlite:///Northwind.db\n",
      "Done.\n"
     ]
    },
    {
     "data": {
      "text/html": [
       "<table>\n",
       "    <thead>\n",
       "        <tr>\n",
       "            <th>name</th>\n",
       "        </tr>\n",
       "    </thead>\n",
       "    <tbody>\n",
       "        <tr>\n",
       "            <td>Categories</td>\n",
       "        </tr>\n",
       "        <tr>\n",
       "            <td>Customers</td>\n",
       "        </tr>\n",
       "        <tr>\n",
       "            <td>Region</td>\n",
       "        </tr>\n",
       "        <tr>\n",
       "            <td>Shippers</td>\n",
       "        </tr>\n",
       "        <tr>\n",
       "            <td>Suppliers</td>\n",
       "        </tr>\n",
       "        <tr>\n",
       "            <td>Employees</td>\n",
       "        </tr>\n",
       "        <tr>\n",
       "            <td>EmployeeTerritories</td>\n",
       "        </tr>\n",
       "        <tr>\n",
       "            <td>OrderDetails</td>\n",
       "        </tr>\n",
       "        <tr>\n",
       "            <td>Orders</td>\n",
       "        </tr>\n",
       "        <tr>\n",
       "            <td>Territories</td>\n",
       "        </tr>\n",
       "        <tr>\n",
       "            <td>Products</td>\n",
       "        </tr>\n",
       "    </tbody>\n",
       "</table>"
      ],
      "text/plain": [
       "[('Categories',),\n",
       " ('Customers',),\n",
       " ('Region',),\n",
       " ('Shippers',),\n",
       " ('Suppliers',),\n",
       " ('Employees',),\n",
       " ('EmployeeTerritories',),\n",
       " ('OrderDetails',),\n",
       " ('Orders',),\n",
       " ('Territories',),\n",
       " ('Products',)]"
      ]
     },
     "execution_count": 50,
     "metadata": {},
     "output_type": "execute_result"
    }
   ],
   "source": [
    "#Showing all tables present in the Northwind database\n",
    "%time\n",
    "%sql SELECT name FROM sqlite_master WHERE type='table';"
   ]
  },
  {
   "cell_type": "code",
   "execution_count": 34,
   "metadata": {},
   "outputs": [
    {
     "name": "stdout",
     "output_type": "stream",
     "text": [
      " * sqlite:///Northwind.db\n",
      "Done.\n"
     ]
    },
    {
     "data": {
      "text/html": [
       "<table>\n",
       "    <thead>\n",
       "        <tr>\n",
       "            <th>OrderID</th>\n",
       "            <th>CustomerID</th>\n",
       "            <th>EmployeeID</th>\n",
       "            <th>OrderDate</th>\n",
       "            <th>RequiredDate</th>\n",
       "            <th>ShippedDate</th>\n",
       "            <th>ShipVia</th>\n",
       "            <th>Freight</th>\n",
       "            <th>ShipName</th>\n",
       "            <th>ShipAddress</th>\n",
       "            <th>ShipCity</th>\n",
       "            <th>ShipRegion</th>\n",
       "            <th>ShipPostalCode</th>\n",
       "            <th>ShipCountry</th>\n",
       "        </tr>\n",
       "    </thead>\n",
       "    <tbody>\n",
       "        <tr>\n",
       "            <td>10248</td>\n",
       "            <td>VINET</td>\n",
       "            <td>5</td>\n",
       "            <td>1996-07-04 00:00:00</td>\n",
       "            <td>1996-08-01 00:00:00</td>\n",
       "            <td>1996-07-16 00:00:00</td>\n",
       "            <td>3</td>\n",
       "            <td>32.38</td>\n",
       "            <td>Vins et alcools Chevalier</td>\n",
       "            <td>59 rue de l-Abbaye</td>\n",
       "            <td>Reims</td>\n",
       "            <td>None</td>\n",
       "            <td>51100</td>\n",
       "            <td>France</td>\n",
       "        </tr>\n",
       "        <tr>\n",
       "            <td>10249</td>\n",
       "            <td>TOMSP</td>\n",
       "            <td>6</td>\n",
       "            <td>1996-07-05 00:00:00</td>\n",
       "            <td>1996-08-16 00:00:00</td>\n",
       "            <td>1996-07-10 00:00:00</td>\n",
       "            <td>1</td>\n",
       "            <td>11.61</td>\n",
       "            <td>Toms Spezialitten</td>\n",
       "            <td>Luisenstr. 48</td>\n",
       "            <td>Mnster</td>\n",
       "            <td>None</td>\n",
       "            <td>44087</td>\n",
       "            <td>Germany</td>\n",
       "        </tr>\n",
       "        <tr>\n",
       "            <td>10250</td>\n",
       "            <td>HANAR</td>\n",
       "            <td>4</td>\n",
       "            <td>1996-07-08 00:00:00</td>\n",
       "            <td>1996-08-05 00:00:00</td>\n",
       "            <td>1996-07-12 00:00:00</td>\n",
       "            <td>2</td>\n",
       "            <td>65.83</td>\n",
       "            <td>Hanari Carnes</td>\n",
       "            <td>Rua do Pao, 67</td>\n",
       "            <td>Rio de Janeiro</td>\n",
       "            <td>RJ</td>\n",
       "            <td>05454-876</td>\n",
       "            <td>Brazil</td>\n",
       "        </tr>\n",
       "        <tr>\n",
       "            <td>10251</td>\n",
       "            <td>VICTE</td>\n",
       "            <td>3</td>\n",
       "            <td>1996-07-08 00:00:00</td>\n",
       "            <td>1996-08-05 00:00:00</td>\n",
       "            <td>1996-07-15 00:00:00</td>\n",
       "            <td>1</td>\n",
       "            <td>41.34</td>\n",
       "            <td>Victuailles en stock</td>\n",
       "            <td>2, rue du Commerce</td>\n",
       "            <td>Lyon</td>\n",
       "            <td>None</td>\n",
       "            <td>69004</td>\n",
       "            <td>France</td>\n",
       "        </tr>\n",
       "        <tr>\n",
       "            <td>10252</td>\n",
       "            <td>SUPRD</td>\n",
       "            <td>4</td>\n",
       "            <td>1996-07-09 00:00:00</td>\n",
       "            <td>1996-08-06 00:00:00</td>\n",
       "            <td>1996-07-11 00:00:00</td>\n",
       "            <td>2</td>\n",
       "            <td>51.3</td>\n",
       "            <td>Suprmes dlices</td>\n",
       "            <td>Boulevard Tirou, 255</td>\n",
       "            <td>Charleroi</td>\n",
       "            <td>None</td>\n",
       "            <td>B-6000</td>\n",
       "            <td>Belgium</td>\n",
       "        </tr>\n",
       "        <tr>\n",
       "            <td>10253</td>\n",
       "            <td>HANAR</td>\n",
       "            <td>3</td>\n",
       "            <td>1996-07-10 00:00:00</td>\n",
       "            <td>1996-07-24 00:00:00</td>\n",
       "            <td>1996-07-16 00:00:00</td>\n",
       "            <td>2</td>\n",
       "            <td>58.17</td>\n",
       "            <td>Hanari Carnes</td>\n",
       "            <td>Rua do Pao, 67</td>\n",
       "            <td>Rio de Janeiro</td>\n",
       "            <td>RJ</td>\n",
       "            <td>05454-876</td>\n",
       "            <td>Brazil</td>\n",
       "        </tr>\n",
       "        <tr>\n",
       "            <td>10254</td>\n",
       "            <td>CHOPS</td>\n",
       "            <td>5</td>\n",
       "            <td>1996-07-11 00:00:00</td>\n",
       "            <td>1996-08-08 00:00:00</td>\n",
       "            <td>1996-07-23 00:00:00</td>\n",
       "            <td>2</td>\n",
       "            <td>22.98</td>\n",
       "            <td>Chop-suey Chinese</td>\n",
       "            <td>Hauptstr. 31</td>\n",
       "            <td>Bern</td>\n",
       "            <td>None</td>\n",
       "            <td>3012</td>\n",
       "            <td>Switzerland</td>\n",
       "        </tr>\n",
       "        <tr>\n",
       "            <td>10255</td>\n",
       "            <td>RICSU</td>\n",
       "            <td>9</td>\n",
       "            <td>1996-07-12 00:00:00</td>\n",
       "            <td>1996-08-09 00:00:00</td>\n",
       "            <td>1996-07-15 00:00:00</td>\n",
       "            <td>3</td>\n",
       "            <td>148.33</td>\n",
       "            <td>Richter Supermarkt</td>\n",
       "            <td>Starenweg 5</td>\n",
       "            <td>Genve</td>\n",
       "            <td>None</td>\n",
       "            <td>1204</td>\n",
       "            <td>Switzerland</td>\n",
       "        </tr>\n",
       "        <tr>\n",
       "            <td>10256</td>\n",
       "            <td>WELLI</td>\n",
       "            <td>3</td>\n",
       "            <td>1996-07-15 00:00:00</td>\n",
       "            <td>1996-08-12 00:00:00</td>\n",
       "            <td>1996-07-17 00:00:00</td>\n",
       "            <td>2</td>\n",
       "            <td>13.97</td>\n",
       "            <td>Wellington Importadora</td>\n",
       "            <td>Rua do Mercado, 12</td>\n",
       "            <td>Resende</td>\n",
       "            <td>SP</td>\n",
       "            <td>08737-363</td>\n",
       "            <td>Brazil</td>\n",
       "        </tr>\n",
       "        <tr>\n",
       "            <td>10257</td>\n",
       "            <td>HILAA</td>\n",
       "            <td>4</td>\n",
       "            <td>1996-07-16 00:00:00</td>\n",
       "            <td>1996-08-13 00:00:00</td>\n",
       "            <td>1996-07-22 00:00:00</td>\n",
       "            <td>3</td>\n",
       "            <td>81.91</td>\n",
       "            <td>HILARION-Abastos</td>\n",
       "            <td>Carrera 22 con Ave. Carlos Soublette #8-35</td>\n",
       "            <td>San Cristbal</td>\n",
       "            <td>Tchira</td>\n",
       "            <td>5022</td>\n",
       "            <td>Venezuela</td>\n",
       "        </tr>\n",
       "    </tbody>\n",
       "</table>"
      ],
      "text/plain": [
       "[(10248, 'VINET', 5, '1996-07-04 00:00:00', '1996-08-01 00:00:00', '1996-07-16 00:00:00', 3, 32.38, 'Vins et alcools Chevalier', '59 rue de l-Abbaye', 'Reims', None, '51100', 'France'),\n",
       " (10249, 'TOMSP', 6, '1996-07-05 00:00:00', '1996-08-16 00:00:00', '1996-07-10 00:00:00', 1, 11.61, 'Toms Spezialitten', 'Luisenstr. 48', 'Mnster', None, '44087', 'Germany'),\n",
       " (10250, 'HANAR', 4, '1996-07-08 00:00:00', '1996-08-05 00:00:00', '1996-07-12 00:00:00', 2, 65.83, 'Hanari Carnes', 'Rua do Pao, 67', 'Rio de Janeiro', 'RJ', '05454-876', 'Brazil'),\n",
       " (10251, 'VICTE', 3, '1996-07-08 00:00:00', '1996-08-05 00:00:00', '1996-07-15 00:00:00', 1, 41.34, 'Victuailles en stock', '2, rue du Commerce', 'Lyon', None, '69004', 'France'),\n",
       " (10252, 'SUPRD', 4, '1996-07-09 00:00:00', '1996-08-06 00:00:00', '1996-07-11 00:00:00', 2, 51.3, 'Suprmes dlices', 'Boulevard Tirou, 255', 'Charleroi', None, 'B-6000', 'Belgium'),\n",
       " (10253, 'HANAR', 3, '1996-07-10 00:00:00', '1996-07-24 00:00:00', '1996-07-16 00:00:00', 2, 58.17, 'Hanari Carnes', 'Rua do Pao, 67', 'Rio de Janeiro', 'RJ', '05454-876', 'Brazil'),\n",
       " (10254, 'CHOPS', 5, '1996-07-11 00:00:00', '1996-08-08 00:00:00', '1996-07-23 00:00:00', 2, 22.98, 'Chop-suey Chinese', 'Hauptstr. 31', 'Bern', None, '3012', 'Switzerland'),\n",
       " (10255, 'RICSU', 9, '1996-07-12 00:00:00', '1996-08-09 00:00:00', '1996-07-15 00:00:00', 3, 148.33, 'Richter Supermarkt', 'Starenweg 5', 'Genve', None, '1204', 'Switzerland'),\n",
       " (10256, 'WELLI', 3, '1996-07-15 00:00:00', '1996-08-12 00:00:00', '1996-07-17 00:00:00', 2, 13.97, 'Wellington Importadora', 'Rua do Mercado, 12', 'Resende', 'SP', '08737-363', 'Brazil'),\n",
       " (10257, 'HILAA', 4, '1996-07-16 00:00:00', '1996-08-13 00:00:00', '1996-07-22 00:00:00', 3, 81.91, 'HILARION-Abastos', 'Carrera 22 con Ave. Carlos Soublette #8-35', 'San Cristbal', 'Tchira', '5022', 'Venezuela')]"
      ]
     },
     "execution_count": 34,
     "metadata": {},
     "output_type": "execute_result"
    }
   ],
   "source": [
    "%sql SELECT * FROM Orders LIMIT 10;"
   ]
  },
  {
   "cell_type": "code",
   "execution_count": 53,
   "metadata": {},
   "outputs": [
    {
     "name": "stdout",
     "output_type": "stream",
     "text": [
      " * sqlite:///Northwind.db\n",
      "(sqlite3.OperationalError) view CustomerOrderView already exists\n",
      "[SQL: CREATE VIEW CustomerOrderView AS\n",
      "SELECT o.CustomerID, o.OrderID, o.OrderDate, c.CompanyName\n",
      "FROM Orders o\n",
      "INNER JOIN Customers c ON o.CustomerID = c.CustomerID;]\n",
      "(Background on this error at: https://sqlalche.me/e/14/e3q8)\n",
      "Wall time: 2.84 ms\n"
     ]
    }
   ],
   "source": [
    "%%time\n",
    "%%sql\n",
    "\n",
    "CREATE VIEW CustomerOrderView AS\n",
    "SELECT o.CustomerID, o.OrderID, o.OrderDate, c.CompanyName\n",
    "FROM Orders o\n",
    "INNER JOIN Customers c ON o.CustomerID = c.CustomerID;"
   ]
  },
  {
   "cell_type": "code",
   "execution_count": 55,
   "metadata": {},
   "outputs": [
    {
     "name": "stdout",
     "output_type": "stream",
     "text": [
      " * sqlite:///Northwind.db\n",
      "Done.\n"
     ]
    },
    {
     "data": {
      "text/html": [
       "<table>\n",
       "    <thead>\n",
       "        <tr>\n",
       "            <th>CustomerID</th>\n",
       "            <th>OrderID</th>\n",
       "            <th>OrderDateOnly</th>\n",
       "            <th>OrderTimeOnly</th>\n",
       "            <th>CompanyName</th>\n",
       "        </tr>\n",
       "    </thead>\n",
       "    <tbody>\n",
       "        <tr>\n",
       "            <td>VINET</td>\n",
       "            <td>10248</td>\n",
       "            <td>1996-07-04</td>\n",
       "            <td>00:00:00</td>\n",
       "            <td>Vins et alcools Chevalier</td>\n",
       "        </tr>\n",
       "        <tr>\n",
       "            <td>TOMSP</td>\n",
       "            <td>10249</td>\n",
       "            <td>1996-07-05</td>\n",
       "            <td>00:00:00</td>\n",
       "            <td>Toms Spezialitten</td>\n",
       "        </tr>\n",
       "        <tr>\n",
       "            <td>HANAR</td>\n",
       "            <td>10250</td>\n",
       "            <td>1996-07-08</td>\n",
       "            <td>00:00:00</td>\n",
       "            <td>Hanari Carnes</td>\n",
       "        </tr>\n",
       "        <tr>\n",
       "            <td>VICTE</td>\n",
       "            <td>10251</td>\n",
       "            <td>1996-07-08</td>\n",
       "            <td>00:00:00</td>\n",
       "            <td>Victuailles en stock</td>\n",
       "        </tr>\n",
       "        <tr>\n",
       "            <td>SUPRD</td>\n",
       "            <td>10252</td>\n",
       "            <td>1996-07-09</td>\n",
       "            <td>00:00:00</td>\n",
       "            <td>Suprmes dlices</td>\n",
       "        </tr>\n",
       "        <tr>\n",
       "            <td>HANAR</td>\n",
       "            <td>10253</td>\n",
       "            <td>1996-07-10</td>\n",
       "            <td>00:00:00</td>\n",
       "            <td>Hanari Carnes</td>\n",
       "        </tr>\n",
       "        <tr>\n",
       "            <td>CHOPS</td>\n",
       "            <td>10254</td>\n",
       "            <td>1996-07-11</td>\n",
       "            <td>00:00:00</td>\n",
       "            <td>Chop-suey Chinese</td>\n",
       "        </tr>\n",
       "        <tr>\n",
       "            <td>RICSU</td>\n",
       "            <td>10255</td>\n",
       "            <td>1996-07-12</td>\n",
       "            <td>00:00:00</td>\n",
       "            <td>Richter Supermarkt</td>\n",
       "        </tr>\n",
       "        <tr>\n",
       "            <td>WELLI</td>\n",
       "            <td>10256</td>\n",
       "            <td>1996-07-15</td>\n",
       "            <td>00:00:00</td>\n",
       "            <td>Wellington Importadora</td>\n",
       "        </tr>\n",
       "        <tr>\n",
       "            <td>HILAA</td>\n",
       "            <td>10257</td>\n",
       "            <td>1996-07-16</td>\n",
       "            <td>00:00:00</td>\n",
       "            <td>HILARION-Abastos</td>\n",
       "        </tr>\n",
       "    </tbody>\n",
       "</table>"
      ],
      "text/plain": [
       "[('VINET', 10248, '1996-07-04', '00:00:00', 'Vins et alcools Chevalier'),\n",
       " ('TOMSP', 10249, '1996-07-05', '00:00:00', 'Toms Spezialitten'),\n",
       " ('HANAR', 10250, '1996-07-08', '00:00:00', 'Hanari Carnes'),\n",
       " ('VICTE', 10251, '1996-07-08', '00:00:00', 'Victuailles en stock'),\n",
       " ('SUPRD', 10252, '1996-07-09', '00:00:00', 'Suprmes dlices'),\n",
       " ('HANAR', 10253, '1996-07-10', '00:00:00', 'Hanari Carnes'),\n",
       " ('CHOPS', 10254, '1996-07-11', '00:00:00', 'Chop-suey Chinese'),\n",
       " ('RICSU', 10255, '1996-07-12', '00:00:00', 'Richter Supermarkt'),\n",
       " ('WELLI', 10256, '1996-07-15', '00:00:00', 'Wellington Importadora'),\n",
       " ('HILAA', 10257, '1996-07-16', '00:00:00', 'HILARION-Abastos')]"
      ]
     },
     "execution_count": 55,
     "metadata": {},
     "output_type": "execute_result"
    }
   ],
   "source": [
    "%%sql\n",
    "\n",
    "SELECT * \n",
    "FROM CustomerOrderView\n",
    "LIMIT 10;"
   ]
  },
  {
   "cell_type": "code",
   "execution_count": 52,
   "metadata": {},
   "outputs": [
    {
     "name": "stdout",
     "output_type": "stream",
     "text": [
      " * sqlite:///Northwind.db\n",
      "Done.\n",
      "Done.\n"
     ]
    },
    {
     "data": {
      "text/plain": [
       "[]"
      ]
     },
     "execution_count": 52,
     "metadata": {},
     "output_type": "execute_result"
    }
   ],
   "source": [
    "%%sql\n",
    "\n",
    "DROP VIEW IF EXISTS CustomerOrderView;\n",
    "\n",
    "CREATE VIEW CustomerOrderView AS\n",
    "SELECT o.CustomerID, o.OrderID, DATE(o.OrderDate) AS OrderDateOnly, TIME(o.OrderDate) AS OrderTimeOnly, c.CompanyName\n",
    "FROM Orders o\n",
    "INNER JOIN Customers c ON o.CustomerID = c.CustomerID;"
   ]
  },
  {
   "cell_type": "code",
   "execution_count": 18,
   "metadata": {},
   "outputs": [
    {
     "name": "stdout",
     "output_type": "stream",
     "text": [
      " * sqlite:///Northwind.db\n",
      "Done.\n"
     ]
    },
    {
     "data": {
      "text/html": [
       "<table>\n",
       "    <thead>\n",
       "        <tr>\n",
       "            <th>OrderID</th>\n",
       "            <th>ProductID</th>\n",
       "            <th>UnitPrice</th>\n",
       "            <th>Quantity</th>\n",
       "            <th>Discount</th>\n",
       "        </tr>\n",
       "    </thead>\n",
       "    <tbody>\n",
       "        <tr>\n",
       "            <td>10248</td>\n",
       "            <td>11</td>\n",
       "            <td>14</td>\n",
       "            <td>12</td>\n",
       "            <td>0.0</td>\n",
       "        </tr>\n",
       "        <tr>\n",
       "            <td>10248</td>\n",
       "            <td>42</td>\n",
       "            <td>9.8</td>\n",
       "            <td>10</td>\n",
       "            <td>0.0</td>\n",
       "        </tr>\n",
       "        <tr>\n",
       "            <td>10248</td>\n",
       "            <td>72</td>\n",
       "            <td>34.8</td>\n",
       "            <td>5</td>\n",
       "            <td>0.0</td>\n",
       "        </tr>\n",
       "        <tr>\n",
       "            <td>10249</td>\n",
       "            <td>14</td>\n",
       "            <td>18.6</td>\n",
       "            <td>9</td>\n",
       "            <td>0.0</td>\n",
       "        </tr>\n",
       "        <tr>\n",
       "            <td>10249</td>\n",
       "            <td>51</td>\n",
       "            <td>42.4</td>\n",
       "            <td>40</td>\n",
       "            <td>0.0</td>\n",
       "        </tr>\n",
       "        <tr>\n",
       "            <td>10250</td>\n",
       "            <td>41</td>\n",
       "            <td>7.7</td>\n",
       "            <td>10</td>\n",
       "            <td>0.0</td>\n",
       "        </tr>\n",
       "        <tr>\n",
       "            <td>10250</td>\n",
       "            <td>51</td>\n",
       "            <td>42.4</td>\n",
       "            <td>35</td>\n",
       "            <td>0.0</td>\n",
       "        </tr>\n",
       "        <tr>\n",
       "            <td>10250</td>\n",
       "            <td>65</td>\n",
       "            <td>16.8</td>\n",
       "            <td>15</td>\n",
       "            <td>0.0</td>\n",
       "        </tr>\n",
       "        <tr>\n",
       "            <td>10251</td>\n",
       "            <td>22</td>\n",
       "            <td>16.8</td>\n",
       "            <td>6</td>\n",
       "            <td>0.0</td>\n",
       "        </tr>\n",
       "        <tr>\n",
       "            <td>10251</td>\n",
       "            <td>57</td>\n",
       "            <td>15.6</td>\n",
       "            <td>15</td>\n",
       "            <td>0.0</td>\n",
       "        </tr>\n",
       "    </tbody>\n",
       "</table>"
      ],
      "text/plain": [
       "[(10248, 11, 14, 12, 0.0),\n",
       " (10248, 42, 9.8, 10, 0.0),\n",
       " (10248, 72, 34.8, 5, 0.0),\n",
       " (10249, 14, 18.6, 9, 0.0),\n",
       " (10249, 51, 42.4, 40, 0.0),\n",
       " (10250, 41, 7.7, 10, 0.0),\n",
       " (10250, 51, 42.4, 35, 0.0),\n",
       " (10250, 65, 16.8, 15, 0.0),\n",
       " (10251, 22, 16.8, 6, 0.0),\n",
       " (10251, 57, 15.6, 15, 0.0)]"
      ]
     },
     "execution_count": 18,
     "metadata": {},
     "output_type": "execute_result"
    }
   ],
   "source": [
    "%sql SELECT * FROM OrderDetails LIMIT 10; "
   ]
  },
  {
   "cell_type": "code",
   "execution_count": 27,
   "metadata": {},
   "outputs": [
    {
     "name": "stdout",
     "output_type": "stream",
     "text": [
      " * sqlite:///Northwind.db\n",
      "Done.\n"
     ]
    },
    {
     "data": {
      "text/html": [
       "<table>\n",
       "    <thead>\n",
       "        <tr>\n",
       "            <th>OrderID</th>\n",
       "            <th>ProductID</th>\n",
       "            <th>Total_Price</th>\n",
       "        </tr>\n",
       "    </thead>\n",
       "    <tbody>\n",
       "        <tr>\n",
       "            <td>10248</td>\n",
       "            <td>11</td>\n",
       "            <td>168.0</td>\n",
       "        </tr>\n",
       "        <tr>\n",
       "            <td>10248</td>\n",
       "            <td>42</td>\n",
       "            <td>98.0</td>\n",
       "        </tr>\n",
       "        <tr>\n",
       "            <td>10248</td>\n",
       "            <td>72</td>\n",
       "            <td>174.0</td>\n",
       "        </tr>\n",
       "        <tr>\n",
       "            <td>10249</td>\n",
       "            <td>14</td>\n",
       "            <td>167.0</td>\n",
       "        </tr>\n",
       "        <tr>\n",
       "            <td>10249</td>\n",
       "            <td>51</td>\n",
       "            <td>1696.0</td>\n",
       "        </tr>\n",
       "        <tr>\n",
       "            <td>10250</td>\n",
       "            <td>41</td>\n",
       "            <td>77.0</td>\n",
       "        </tr>\n",
       "        <tr>\n",
       "            <td>10250</td>\n",
       "            <td>51</td>\n",
       "            <td>1484.0</td>\n",
       "        </tr>\n",
       "        <tr>\n",
       "            <td>10250</td>\n",
       "            <td>65</td>\n",
       "            <td>252.0</td>\n",
       "        </tr>\n",
       "        <tr>\n",
       "            <td>10251</td>\n",
       "            <td>22</td>\n",
       "            <td>101.0</td>\n",
       "        </tr>\n",
       "        <tr>\n",
       "            <td>10251</td>\n",
       "            <td>57</td>\n",
       "            <td>234.0</td>\n",
       "        </tr>\n",
       "    </tbody>\n",
       "</table>"
      ],
      "text/plain": [
       "[(10248, 11, 168.0),\n",
       " (10248, 42, 98.0),\n",
       " (10248, 72, 174.0),\n",
       " (10249, 14, 167.0),\n",
       " (10249, 51, 1696.0),\n",
       " (10250, 41, 77.0),\n",
       " (10250, 51, 1484.0),\n",
       " (10250, 65, 252.0),\n",
       " (10251, 22, 101.0),\n",
       " (10251, 57, 234.0)]"
      ]
     },
     "execution_count": 27,
     "metadata": {},
     "output_type": "execute_result"
    }
   ],
   "source": [
    "%%sql\n",
    "\n",
    "SELECT\n",
    "    OrderID,\n",
    "    ProductID,\n",
    "    ROUND((Quantity*UnitPrice)) AS Total_Price\n",
    "FROM OrderDetails\n",
    "WHERE UnitPrice IS NOT NULL\n",
    "LIMIT 10;"
   ]
  },
  {
   "cell_type": "code",
   "execution_count": 30,
   "metadata": {},
   "outputs": [
    {
     "name": "stdout",
     "output_type": "stream",
     "text": [
      " * sqlite:///Northwind.db\n",
      "(sqlite3.OperationalError) no such function: IF\n",
      "[SQL: SELECT\n",
      "    OrderID,\n",
      "    ProductID,\n",
      "    CASE\n",
      "        WHEN  (UnitPrice / Quantity)*100 < IF(UnitPrice < 50, 1, 0)\n",
      "            THEN 'Low'\n",
      "        WHEN (UnitPrice / Quantity)*100 > IF(UnitPrice < 50, 1, 0)\n",
      "            THEN 'High'\n",
      "        ELSE 'Medium'\n",
      "    END AS PriceGroup\n",
      "FROM OrderDetails\n",
      "WHERE UnitPrice IS NOT NULL\n",
      "LIMIT 10;]\n",
      "(Background on this error at: https://sqlalche.me/e/14/e3q8)\n"
     ]
    }
   ],
   "source": [
    "%%sql\n",
    "\n",
    "SELECT\n",
    "    OrderID,\n",
    "    ProductID,\n",
    "    IF(UnitPrice < 50, 1, 0) as ExpensivePrice,\n",
    "    CASE\n",
    "        WHEN  (UnitPrice / Quantity)*100 < IF(UnitPrice < 50, 1, 0)\n",
    "            THEN 'Low'\n",
    "        WHEN (UnitPrice / Quantity)*100 > IF(UnitPrice < 50, 1, 0)\n",
    "            THEN 'High'\n",
    "        ELSE 'Medium'\n",
    "    END AS PriceGroup\n",
    "FROM OrderDetails\n",
    "WHERE UnitPrice IS NOT NULL\n",
    "LIMIT 10;"
   ]
  },
  {
   "cell_type": "code",
   "execution_count": 35,
   "metadata": {},
   "outputs": [
    {
     "name": "stdout",
     "output_type": "stream",
     "text": [
      " * sqlite:///Northwind.db\n",
      "Done.\n"
     ]
    },
    {
     "data": {
      "text/html": [
       "<table>\n",
       "    <thead>\n",
       "        <tr>\n",
       "            <th>OrderID</th>\n",
       "            <th>CustomerID</th>\n",
       "            <th>EmployeeID</th>\n",
       "            <th>OrderDate</th>\n",
       "            <th>RequiredDate</th>\n",
       "            <th>ShippedDate</th>\n",
       "            <th>ShipVia</th>\n",
       "            <th>Freight</th>\n",
       "            <th>ShipName</th>\n",
       "            <th>ShipAddress</th>\n",
       "            <th>ShipCity</th>\n",
       "            <th>ShipRegion</th>\n",
       "            <th>ShipPostalCode</th>\n",
       "            <th>ShipCountry</th>\n",
       "        </tr>\n",
       "    </thead>\n",
       "    <tbody>\n",
       "        <tr>\n",
       "            <td>10250</td>\n",
       "            <td>HANAR</td>\n",
       "            <td>4</td>\n",
       "            <td>1996-07-08 00:00:00</td>\n",
       "            <td>1996-08-05 00:00:00</td>\n",
       "            <td>1996-07-12 00:00:00</td>\n",
       "            <td>2</td>\n",
       "            <td>65.83</td>\n",
       "            <td>Hanari Carnes</td>\n",
       "            <td>Rua do Pao, 67</td>\n",
       "            <td>Rio de Janeiro</td>\n",
       "            <td>RJ</td>\n",
       "            <td>05454-876</td>\n",
       "            <td>Brazil</td>\n",
       "        </tr>\n",
       "        <tr>\n",
       "            <td>10252</td>\n",
       "            <td>SUPRD</td>\n",
       "            <td>4</td>\n",
       "            <td>1996-07-09 00:00:00</td>\n",
       "            <td>1996-08-06 00:00:00</td>\n",
       "            <td>1996-07-11 00:00:00</td>\n",
       "            <td>2</td>\n",
       "            <td>51.3</td>\n",
       "            <td>Suprmes dlices</td>\n",
       "            <td>Boulevard Tirou, 255</td>\n",
       "            <td>Charleroi</td>\n",
       "            <td>None</td>\n",
       "            <td>B-6000</td>\n",
       "            <td>Belgium</td>\n",
       "        </tr>\n",
       "        <tr>\n",
       "            <td>10253</td>\n",
       "            <td>HANAR</td>\n",
       "            <td>3</td>\n",
       "            <td>1996-07-10 00:00:00</td>\n",
       "            <td>1996-07-24 00:00:00</td>\n",
       "            <td>1996-07-16 00:00:00</td>\n",
       "            <td>2</td>\n",
       "            <td>58.17</td>\n",
       "            <td>Hanari Carnes</td>\n",
       "            <td>Rua do Pao, 67</td>\n",
       "            <td>Rio de Janeiro</td>\n",
       "            <td>RJ</td>\n",
       "            <td>05454-876</td>\n",
       "            <td>Brazil</td>\n",
       "        </tr>\n",
       "        <tr>\n",
       "            <td>10257</td>\n",
       "            <td>HILAA</td>\n",
       "            <td>4</td>\n",
       "            <td>1996-07-16 00:00:00</td>\n",
       "            <td>1996-08-13 00:00:00</td>\n",
       "            <td>1996-07-22 00:00:00</td>\n",
       "            <td>3</td>\n",
       "            <td>81.91</td>\n",
       "            <td>HILARION-Abastos</td>\n",
       "            <td>Carrera 22 con Ave. Carlos Soublette #8-35</td>\n",
       "            <td>San Cristbal</td>\n",
       "            <td>Tchira</td>\n",
       "            <td>5022</td>\n",
       "            <td>Venezuela</td>\n",
       "        </tr>\n",
       "        <tr>\n",
       "            <td>10258</td>\n",
       "            <td>ERNSH</td>\n",
       "            <td>1</td>\n",
       "            <td>1996-07-17 00:00:00</td>\n",
       "            <td>1996-08-14 00:00:00</td>\n",
       "            <td>1996-07-23 00:00:00</td>\n",
       "            <td>1</td>\n",
       "            <td>140.51</td>\n",
       "            <td>Ernst Handel</td>\n",
       "            <td>Kirchgasse 6</td>\n",
       "            <td>Graz</td>\n",
       "            <td>None</td>\n",
       "            <td>8010</td>\n",
       "            <td>Austria</td>\n",
       "        </tr>\n",
       "    </tbody>\n",
       "</table>"
      ],
      "text/plain": [
       "[(10250, 'HANAR', 4, '1996-07-08 00:00:00', '1996-08-05 00:00:00', '1996-07-12 00:00:00', 2, 65.83, 'Hanari Carnes', 'Rua do Pao, 67', 'Rio de Janeiro', 'RJ', '05454-876', 'Brazil'),\n",
       " (10252, 'SUPRD', 4, '1996-07-09 00:00:00', '1996-08-06 00:00:00', '1996-07-11 00:00:00', 2, 51.3, 'Suprmes dlices', 'Boulevard Tirou, 255', 'Charleroi', None, 'B-6000', 'Belgium'),\n",
       " (10253, 'HANAR', 3, '1996-07-10 00:00:00', '1996-07-24 00:00:00', '1996-07-16 00:00:00', 2, 58.17, 'Hanari Carnes', 'Rua do Pao, 67', 'Rio de Janeiro', 'RJ', '05454-876', 'Brazil'),\n",
       " (10257, 'HILAA', 4, '1996-07-16 00:00:00', '1996-08-13 00:00:00', '1996-07-22 00:00:00', 3, 81.91, 'HILARION-Abastos', 'Carrera 22 con Ave. Carlos Soublette #8-35', 'San Cristbal', 'Tchira', '5022', 'Venezuela'),\n",
       " (10258, 'ERNSH', 1, '1996-07-17 00:00:00', '1996-08-14 00:00:00', '1996-07-23 00:00:00', 1, 140.51, 'Ernst Handel', 'Kirchgasse 6', 'Graz', None, '8010', 'Austria')]"
      ]
     },
     "execution_count": 35,
     "metadata": {},
     "output_type": "execute_result"
    }
   ],
   "source": [
    "%%sql\n",
    "\n",
    "SELECT *\n",
    "FROM Orders\n",
    "WHERE ShipCity LIKE \"%A%\"\n",
    "LIMIT 5;"
   ]
  },
  {
   "cell_type": "code",
   "execution_count": 39,
   "metadata": {},
   "outputs": [
    {
     "name": "stdout",
     "output_type": "stream",
     "text": [
      " * sqlite:///Northwind.db\n",
      "Done.\n"
     ]
    },
    {
     "data": {
      "text/html": [
       "<table>\n",
       "    <thead>\n",
       "        <tr>\n",
       "            <th>Regional_economic_community</th>\n",
       "            <th>ShipCountry</th>\n",
       "            <th>ShipRegion</th>\n",
       "        </tr>\n",
       "    </thead>\n",
       "    <tbody>\n",
       "    </tbody>\n",
       "</table>"
      ],
      "text/plain": [
       "[]"
      ]
     },
     "execution_count": 39,
     "metadata": {},
     "output_type": "execute_result"
    }
   ],
   "source": [
    "%%sql\n",
    "\n",
    "SELECT\n",
    "    CASE \n",
    "        WHEN ShipCountry IN ('Angola', 'Botswana', 'Comoros', 'Democratic Republic of Congo', 'Eswatini', \n",
    "                        'Lesotho', 'Madagascar', 'Malawi', 'Mauritius', 'Mozambique', 'Namibia', \n",
    "                        'Seychelles', 'South Africa', 'United Republic Tanzania', 'Zambia', 'Zimbabwe')\n",
    "            THEN 'SADC'\n",
    "            \n",
    "        WHEN ShipCountry NOT IN ('Algeria', 'Libya', 'Mauritania', 'Morocco', 'Tunisia')\n",
    "            THEN 'UMA'\n",
    "            \n",
    "        WHEN ShipCountry IN ('Benin', 'Burkina Faso', 'Cabo Verde', 'Cote d’Ivoire', 'Gambia', 'Ghana', 'Guinea', \n",
    "                            'Guinea-Bissau', 'Liberia', 'Mali', 'Niger', 'Nigeria', 'Senegal', 'Sierra Leone', 'Togo')\n",
    "            THEN 'ECOWAS'\n",
    "            \n",
    "        ELSE 'Not Classified'\n",
    "    END AS Regional_economic_community,\n",
    "    ShipCountry,\n",
    "    ShipRegion\n",
    "FROM Orders\n",
    "WHERE ShipRegion LIKE \"%Africa%\"\n",
    "LIMIT 5;"
   ]
  },
  {
   "cell_type": "code",
   "execution_count": 40,
   "metadata": {},
   "outputs": [
    {
     "name": "stdout",
     "output_type": "stream",
     "text": [
      " * sqlite:///Northwind.db\n",
      "Done.\n"
     ]
    },
    {
     "data": {
      "text/html": [
       "<table>\n",
       "    <thead>\n",
       "        <tr>\n",
       "            <th>Min_OrderID</th>\n",
       "            <th>Max_OrderID</th>\n",
       "        </tr>\n",
       "    </thead>\n",
       "    <tbody>\n",
       "        <tr>\n",
       "            <td>10248</td>\n",
       "            <td>11077</td>\n",
       "        </tr>\n",
       "    </tbody>\n",
       "</table>"
      ],
      "text/plain": [
       "[(10248, 11077)]"
      ]
     },
     "execution_count": 40,
     "metadata": {},
     "output_type": "execute_result"
    }
   ],
   "source": [
    "%%sql\n",
    "\n",
    "SELECT\n",
    "    MIN(OrderID) AS Min_OrderID,\n",
    "    MAX(OrderID) AS Max_OrderID\n",
    "FROM Orders;"
   ]
  },
  {
   "cell_type": "code",
   "execution_count": 42,
   "metadata": {},
   "outputs": [
    {
     "name": "stdout",
     "output_type": "stream",
     "text": [
      " * sqlite:///Northwind.db\n",
      "Done.\n"
     ]
    },
    {
     "data": {
      "text/html": [
       "<table>\n",
       "    <thead>\n",
       "        <tr>\n",
       "            <th>Number_of_Orders</th>\n",
       "        </tr>\n",
       "    </thead>\n",
       "    <tbody>\n",
       "        <tr>\n",
       "            <td>830</td>\n",
       "        </tr>\n",
       "    </tbody>\n",
       "</table>"
      ],
      "text/plain": [
       "[(830,)]"
      ]
     },
     "execution_count": 42,
     "metadata": {},
     "output_type": "execute_result"
    }
   ],
   "source": [
    "%%sql\n",
    "\n",
    "SELECT\n",
    "    COUNT(DISTINCT OrderID) AS Number_of_Orders\n",
    "FROM Orders;"
   ]
  },
  {
   "cell_type": "code",
   "execution_count": 56,
   "metadata": {},
   "outputs": [
    {
     "name": "stdout",
     "output_type": "stream",
     "text": [
      " * sqlite:///Northwind.db\n",
      "Done.\n"
     ]
    },
    {
     "data": {
      "text/html": [
       "<table>\n",
       "    <thead>\n",
       "        <tr>\n",
       "            <th>City</th>\n",
       "        </tr>\n",
       "    </thead>\n",
       "    <tbody>\n",
       "        <tr>\n",
       "            <td>None</td>\n",
       "        </tr>\n",
       "        <tr>\n",
       "            <td>Aachen</td>\n",
       "        </tr>\n",
       "        <tr>\n",
       "            <td>Albuquerque</td>\n",
       "        </tr>\n",
       "        <tr>\n",
       "            <td>Anchorage</td>\n",
       "        </tr>\n",
       "        <tr>\n",
       "            <td>Barcelona</td>\n",
       "        </tr>\n",
       "        <tr>\n",
       "            <td>Barquisimeto</td>\n",
       "        </tr>\n",
       "        <tr>\n",
       "            <td>Bergamo</td>\n",
       "        </tr>\n",
       "        <tr>\n",
       "            <td>Berlin</td>\n",
       "        </tr>\n",
       "        <tr>\n",
       "            <td>Bern</td>\n",
       "        </tr>\n",
       "        <tr>\n",
       "            <td>Boise</td>\n",
       "        </tr>\n",
       "    </tbody>\n",
       "</table>"
      ],
      "text/plain": [
       "[(None,),\n",
       " ('Aachen',),\n",
       " ('Albuquerque',),\n",
       " ('Anchorage',),\n",
       " ('Barcelona',),\n",
       " ('Barquisimeto',),\n",
       " ('Bergamo',),\n",
       " ('Berlin',),\n",
       " ('Bern',),\n",
       " ('Boise',)]"
      ]
     },
     "execution_count": 56,
     "metadata": {},
     "output_type": "execute_result"
    }
   ],
   "source": [
    "%%sql\n",
    "\n",
    "SELECT \n",
    "    City \n",
    "FROM \n",
    "    Customers\n",
    "UNION\n",
    "SELECT \n",
    "    City \n",
    "FROM \n",
    "    Employees\n",
    "LIMIT 10;"
   ]
  },
  {
   "cell_type": "code",
   "execution_count": 48,
   "metadata": {},
   "outputs": [
    {
     "name": "stdout",
     "output_type": "stream",
     "text": [
      " * sqlite:///Northwind.db\n",
      "Done.\n"
     ]
    },
    {
     "data": {
      "text/html": [
       "<table>\n",
       "    <thead>\n",
       "        <tr>\n",
       "            <th>ContactName</th>\n",
       "            <th>OrderDate</th>\n",
       "        </tr>\n",
       "    </thead>\n",
       "    <tbody>\n",
       "        <tr>\n",
       "            <td>Maria Anders</td>\n",
       "            <td>1997-08-25 00:00:00</td>\n",
       "        </tr>\n",
       "        <tr>\n",
       "            <td>Maria Anders</td>\n",
       "            <td>1997-10-03 00:00:00</td>\n",
       "        </tr>\n",
       "        <tr>\n",
       "            <td>Maria Anders</td>\n",
       "            <td>1997-10-13 00:00:00</td>\n",
       "        </tr>\n",
       "        <tr>\n",
       "            <td>Maria Anders</td>\n",
       "            <td>1998-01-15 00:00:00</td>\n",
       "        </tr>\n",
       "        <tr>\n",
       "            <td>Maria Anders</td>\n",
       "            <td>1998-03-16 00:00:00</td>\n",
       "        </tr>\n",
       "        <tr>\n",
       "            <td>Maria Anders</td>\n",
       "            <td>1998-04-09 00:00:00</td>\n",
       "        </tr>\n",
       "        <tr>\n",
       "            <td>Ana Trujillo</td>\n",
       "            <td>1996-09-18 00:00:00</td>\n",
       "        </tr>\n",
       "        <tr>\n",
       "            <td>Ana Trujillo</td>\n",
       "            <td>1997-08-08 00:00:00</td>\n",
       "        </tr>\n",
       "        <tr>\n",
       "            <td>Ana Trujillo</td>\n",
       "            <td>1997-11-28 00:00:00</td>\n",
       "        </tr>\n",
       "        <tr>\n",
       "            <td>Ana Trujillo</td>\n",
       "            <td>1998-03-04 00:00:00</td>\n",
       "        </tr>\n",
       "    </tbody>\n",
       "</table>"
      ],
      "text/plain": [
       "[('Maria Anders', '1997-08-25 00:00:00'),\n",
       " ('Maria Anders', '1997-10-03 00:00:00'),\n",
       " ('Maria Anders', '1997-10-13 00:00:00'),\n",
       " ('Maria Anders', '1998-01-15 00:00:00'),\n",
       " ('Maria Anders', '1998-03-16 00:00:00'),\n",
       " ('Maria Anders', '1998-04-09 00:00:00'),\n",
       " ('Ana Trujillo', '1996-09-18 00:00:00'),\n",
       " ('Ana Trujillo', '1997-08-08 00:00:00'),\n",
       " ('Ana Trujillo', '1997-11-28 00:00:00'),\n",
       " ('Ana Trujillo', '1998-03-04 00:00:00')]"
      ]
     },
     "execution_count": 48,
     "metadata": {},
     "output_type": "execute_result"
    }
   ],
   "source": [
    "%%sql\n",
    "\n",
    "SELECT \n",
    "    c.ContactName, \n",
    "    o.OrderDate\n",
    "FROM \n",
    "    Customers c\n",
    "LEFT JOIN \n",
    "    Orders o\n",
    "    ON c.CustomerId = o.CustomerId\n",
    "LIMIT 10;"
   ]
  },
  {
   "cell_type": "code",
   "execution_count": 46,
   "metadata": {},
   "outputs": [
    {
     "name": "stdout",
     "output_type": "stream",
     "text": [
      " * sqlite:///Northwind.db\n",
      "Done.\n"
     ]
    },
    {
     "data": {
      "text/html": [
       "<table>\n",
       "    <thead>\n",
       "        <tr>\n",
       "            <th>ContactName</th>\n",
       "            <th>Country</th>\n",
       "            <th>TotalSalesAmount</th>\n",
       "            <th>ProductName</th>\n",
       "            <th>TotalUnitsSold</th>\n",
       "        </tr>\n",
       "    </thead>\n",
       "    <tbody>\n",
       "        <tr>\n",
       "            <td>Georg Pipps</td>\n",
       "            <td>Austria</td>\n",
       "            <td>10540.0</td>\n",
       "            <td>Cte de Blaye</td>\n",
       "            <td>50</td>\n",
       "        </tr>\n",
       "        <tr>\n",
       "            <td>Horst Kloss</td>\n",
       "            <td>Germany</td>\n",
       "            <td>6222.0</td>\n",
       "            <td>Camembert Pierrot</td>\n",
       "            <td>194</td>\n",
       "        </tr>\n",
       "        <tr>\n",
       "            <td>Horst Kloss</td>\n",
       "            <td>Germany</td>\n",
       "            <td>7905.0</td>\n",
       "            <td>Cte de Blaye</td>\n",
       "            <td>30</td>\n",
       "        </tr>\n",
       "        <tr>\n",
       "            <td>Horst Kloss</td>\n",
       "            <td>Germany</td>\n",
       "            <td>5268.0</td>\n",
       "            <td>Schoggi Schokolade</td>\n",
       "            <td>120</td>\n",
       "        </tr>\n",
       "        <tr>\n",
       "            <td>Howard Snyder</td>\n",
       "            <td>USA</td>\n",
       "            <td>11857.5</td>\n",
       "            <td>Cte de Blaye</td>\n",
       "            <td>45</td>\n",
       "        </tr>\n",
       "        <tr>\n",
       "            <td>Jean Fresnire</td>\n",
       "            <td>Canada</td>\n",
       "            <td>10329.2</td>\n",
       "            <td>Cte de Blaye</td>\n",
       "            <td>49</td>\n",
       "        </tr>\n",
       "        <tr>\n",
       "            <td>Jose Pavarotti</td>\n",
       "            <td>USA</td>\n",
       "            <td>6832.4400000000005</td>\n",
       "            <td>Thringer Rostbratwurst</td>\n",
       "            <td>60</td>\n",
       "        </tr>\n",
       "        <tr>\n",
       "            <td>Jytte Petersen</td>\n",
       "            <td>Denmark</td>\n",
       "            <td>10540.0</td>\n",
       "            <td>Cte de Blaye</td>\n",
       "            <td>50</td>\n",
       "        </tr>\n",
       "        <tr>\n",
       "            <td>Lcia Carvalho</td>\n",
       "            <td>Brazil</td>\n",
       "            <td>8432.0</td>\n",
       "            <td>Cte de Blaye</td>\n",
       "            <td>40</td>\n",
       "        </tr>\n",
       "        <tr>\n",
       "            <td>Patricia McKenna</td>\n",
       "            <td>Ireland</td>\n",
       "            <td>5830</td>\n",
       "            <td>Raclette Courdavault</td>\n",
       "            <td>112</td>\n",
       "        </tr>\n",
       "    </tbody>\n",
       "</table>"
      ],
      "text/plain": [
       "[('Georg Pipps', 'Austria', 10540.0, 'Cte de Blaye', 50),\n",
       " ('Horst Kloss', 'Germany', 6222.0, 'Camembert Pierrot', 194),\n",
       " ('Horst Kloss', 'Germany', 7905.0, 'Cte de Blaye', 30),\n",
       " ('Horst Kloss', 'Germany', 5268.0, 'Schoggi Schokolade', 120),\n",
       " ('Howard Snyder', 'USA', 11857.5, 'Cte de Blaye', 45),\n",
       " ('Jean Fresnire', 'Canada', 10329.2, 'Cte de Blaye', 49),\n",
       " ('Jose Pavarotti', 'USA', 6832.4400000000005, 'Thringer Rostbratwurst', 60),\n",
       " ('Jytte Petersen', 'Denmark', 10540.0, 'Cte de Blaye', 50),\n",
       " ('Lcia Carvalho', 'Brazil', 8432.0, 'Cte de Blaye', 40),\n",
       " ('Patricia McKenna', 'Ireland', 5830, 'Raclette Courdavault', 112)]"
      ]
     },
     "execution_count": 46,
     "metadata": {},
     "output_type": "execute_result"
    }
   ],
   "source": [
    "%%sql\n",
    "\n",
    "SELECT \n",
    "    customer.ContactName, \n",
    "    customer.Country,\n",
    "    SUM(orderDetails.Quantity * orderDetails.UnitPrice) AS TotalSalesAmount,\n",
    "    product.ProductName,\n",
    "    SUM(orderDetails.Quantity) AS TotalUnitsSold\n",
    "FROM \n",
    "    Customers AS customer\n",
    "JOIN \n",
    "    Orders AS orders \n",
    "    ON customer.CustomerID = orders.CustomerID\n",
    "JOIN \n",
    "    OrderDetails AS orderDetails \n",
    "    ON orders.OrderID = orderDetails.OrderID\n",
    "JOIN \n",
    "    Products AS product \n",
    "    ON orderDetails.ProductID = product.ProductID\n",
    "WHERE \n",
    "    orders.OrderDate BETWEEN '1996-08-01' AND '1998-01-30'\n",
    "GROUP BY \n",
    "    customer.ContactName,\n",
    "    customer.Country, \n",
    "    product.ProductName\n",
    "HAVING \n",
    "    SUM(orderDetails.Quantity * orderDetails.UnitPrice) > 5000\n",
    "LIMIT 10;"
   ]
  },
  {
   "cell_type": "markdown",
   "metadata": {},
   "source": [
    "## Avoid using the wildcard (`%`) at the beginning of a `LIKE` operator\n",
    "#Random SQL tip!<br>\n",
    "Example : Do WHERE TailNum LIKE 'N7%' instead of WHERE TailNum LIKE '%N7%'"
   ]
  },
  {
   "cell_type": "code",
   "execution_count": null,
   "metadata": {},
   "outputs": [],
   "source": []
  },
  {
   "cell_type": "code",
   "execution_count": null,
   "metadata": {},
   "outputs": [],
   "source": []
  },
  {
   "cell_type": "code",
   "execution_count": null,
   "metadata": {},
   "outputs": [],
   "source": []
  },
  {
   "cell_type": "code",
   "execution_count": null,
   "metadata": {},
   "outputs": [],
   "source": []
  },
  {
   "cell_type": "code",
   "execution_count": null,
   "metadata": {},
   "outputs": [],
   "source": []
  },
  {
   "cell_type": "code",
   "execution_count": null,
   "metadata": {},
   "outputs": [],
   "source": []
  },
  {
   "cell_type": "code",
   "execution_count": null,
   "metadata": {},
   "outputs": [],
   "source": []
  },
  {
   "cell_type": "code",
   "execution_count": null,
   "metadata": {},
   "outputs": [],
   "source": []
  }
 ],
 "metadata": {
  "kernelspec": {
   "display_name": "Python 3 (ipykernel)",
   "language": "python",
   "name": "python3"
  },
  "language_info": {
   "codemirror_mode": {
    "name": "ipython",
    "version": 3
   },
   "file_extension": ".py",
   "mimetype": "text/x-python",
   "name": "python",
   "nbconvert_exporter": "python",
   "pygments_lexer": "ipython3",
   "version": "3.9.13"
  }
 },
 "nbformat": 4,
 "nbformat_minor": 2
}
